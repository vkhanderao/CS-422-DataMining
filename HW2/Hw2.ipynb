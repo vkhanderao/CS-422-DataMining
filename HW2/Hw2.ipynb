{
 "cells": [
  {
   "cell_type": "code",
   "execution_count": 1,
   "metadata": {},
   "outputs": [],
   "source": [
    "import numpy as np\n",
    "import pandas as pd\n",
    "import matplotlib.pyplot as plt\n",
    "import seaborn as sns\n",
    "from sklearn import datasets\n",
    "from sklearn.tree import DecisionTreeClassifier\n",
    "from sklearn.model_selection import train_test_split\n",
    "from sklearn.metrics import precision_score\n",
    "from sklearn.metrics import classification_report\n",
    "from sklearn.metrics import f1_score\n",
    "from sklearn.metrics import recall_score\n",
    "from sklearn.metrics import confusion_matrix\n",
    "from sklearn.impute import SimpleImputer\n",
    "from sklearn import tree\n",
    "from sklearn.decomposition import PCA\n",
    "from sklearn import metrics\n",
    "import graphviz"
   ]
  },
  {
   "cell_type": "markdown",
   "metadata": {},
   "source": [
    "## Problem1"
   ]
  },
  {
   "cell_type": "code",
   "execution_count": 2,
   "metadata": {},
   "outputs": [],
   "source": [
    "datap1=datasets.load_iris()"
   ]
  },
  {
   "cell_type": "code",
   "execution_count": 3,
   "metadata": {},
   "outputs": [
    {
     "data": {
      "text/plain": [
       "sklearn.utils.Bunch"
      ]
     },
     "execution_count": 3,
     "metadata": {},
     "output_type": "execute_result"
    }
   ],
   "source": [
    "type(datap1)"
   ]
  },
  {
   "cell_type": "code",
   "execution_count": 4,
   "metadata": {},
   "outputs": [
    {
     "data": {
      "text/plain": [
       "['sepal length (cm)',\n",
       " 'sepal width (cm)',\n",
       " 'petal length (cm)',\n",
       " 'petal width (cm)']"
      ]
     },
     "execution_count": 4,
     "metadata": {},
     "output_type": "execute_result"
    }
   ],
   "source": [
    "datap1.feature_names"
   ]
  },
  {
   "cell_type": "code",
   "execution_count": 5,
   "metadata": {},
   "outputs": [],
   "source": [
    "pdDatap1=pd.DataFrame(np.c_[datap1.data,datap1.target],columns=datap1.feature_names+['class'])"
   ]
  },
  {
   "cell_type": "code",
   "execution_count": 6,
   "metadata": {},
   "outputs": [
    {
     "data": {
      "text/html": [
       "<div>\n",
       "<style scoped>\n",
       "    .dataframe tbody tr th:only-of-type {\n",
       "        vertical-align: middle;\n",
       "    }\n",
       "\n",
       "    .dataframe tbody tr th {\n",
       "        vertical-align: top;\n",
       "    }\n",
       "\n",
       "    .dataframe thead th {\n",
       "        text-align: right;\n",
       "    }\n",
       "</style>\n",
       "<table border=\"1\" class=\"dataframe\">\n",
       "  <thead>\n",
       "    <tr style=\"text-align: right;\">\n",
       "      <th></th>\n",
       "      <th>sepal length (cm)</th>\n",
       "      <th>sepal width (cm)</th>\n",
       "      <th>petal length (cm)</th>\n",
       "      <th>petal width (cm)</th>\n",
       "      <th>class</th>\n",
       "    </tr>\n",
       "  </thead>\n",
       "  <tbody>\n",
       "    <tr>\n",
       "      <td>0</td>\n",
       "      <td>5.1</td>\n",
       "      <td>3.5</td>\n",
       "      <td>1.4</td>\n",
       "      <td>0.2</td>\n",
       "      <td>0.0</td>\n",
       "    </tr>\n",
       "    <tr>\n",
       "      <td>1</td>\n",
       "      <td>4.9</td>\n",
       "      <td>3.0</td>\n",
       "      <td>1.4</td>\n",
       "      <td>0.2</td>\n",
       "      <td>0.0</td>\n",
       "    </tr>\n",
       "    <tr>\n",
       "      <td>2</td>\n",
       "      <td>4.7</td>\n",
       "      <td>3.2</td>\n",
       "      <td>1.3</td>\n",
       "      <td>0.2</td>\n",
       "      <td>0.0</td>\n",
       "    </tr>\n",
       "    <tr>\n",
       "      <td>3</td>\n",
       "      <td>4.6</td>\n",
       "      <td>3.1</td>\n",
       "      <td>1.5</td>\n",
       "      <td>0.2</td>\n",
       "      <td>0.0</td>\n",
       "    </tr>\n",
       "    <tr>\n",
       "      <td>4</td>\n",
       "      <td>5.0</td>\n",
       "      <td>3.6</td>\n",
       "      <td>1.4</td>\n",
       "      <td>0.2</td>\n",
       "      <td>0.0</td>\n",
       "    </tr>\n",
       "  </tbody>\n",
       "</table>\n",
       "</div>"
      ],
      "text/plain": [
       "   sepal length (cm)  sepal width (cm)  petal length (cm)  petal width (cm)  \\\n",
       "0                5.1               3.5                1.4               0.2   \n",
       "1                4.9               3.0                1.4               0.2   \n",
       "2                4.7               3.2                1.3               0.2   \n",
       "3                4.6               3.1                1.5               0.2   \n",
       "4                5.0               3.6                1.4               0.2   \n",
       "\n",
       "   class  \n",
       "0    0.0  \n",
       "1    0.0  \n",
       "2    0.0  \n",
       "3    0.0  \n",
       "4    0.0  "
      ]
     },
     "execution_count": 6,
     "metadata": {},
     "output_type": "execute_result"
    }
   ],
   "source": [
    "pdDatap1.head()"
   ]
  },
  {
   "cell_type": "code",
   "execution_count": 7,
   "metadata": {},
   "outputs": [
    {
     "data": {
      "text/plain": [
       "False"
      ]
     },
     "execution_count": 7,
     "metadata": {},
     "output_type": "execute_result"
    }
   ],
   "source": [
    "pdDatap1.isna().values.any()"
   ]
  },
  {
   "cell_type": "code",
   "execution_count": 8,
   "metadata": {},
   "outputs": [
    {
     "data": {
      "text/plain": [
       "2.0    50\n",
       "1.0    50\n",
       "0.0    50\n",
       "Name: class, dtype: int64"
      ]
     },
     "execution_count": 8,
     "metadata": {},
     "output_type": "execute_result"
    }
   ],
   "source": [
    "pdDatap1.iloc[:,-1].value_counts()"
   ]
  },
  {
   "cell_type": "code",
   "execution_count": 9,
   "metadata": {},
   "outputs": [
    {
     "name": "stdout",
     "output_type": "stream",
     "text": [
      "For Depth 1 below are the values \n",
      "\n",
      "[[15  0  0]\n",
      " [ 0 13  0]\n",
      " [ 0 17  0]]\n",
      "              precision    recall  f1-score   support\n",
      "\n",
      "      setosa       1.00      1.00      1.00        15\n",
      "  versicolor       0.43      1.00      0.60        13\n",
      "   virginica       0.00      0.00      0.00        17\n",
      "\n",
      "    accuracy                           0.62        45\n",
      "   macro avg       0.48      0.67      0.53        45\n",
      "weighted avg       0.46      0.62      0.51        45\n",
      "\n",
      "############################################################# \n",
      "\n",
      "For Depth 2 below are the values \n",
      "\n",
      "[[15  0  0]\n",
      " [ 0 12  1]\n",
      " [ 0  3 14]]\n",
      "              precision    recall  f1-score   support\n",
      "\n",
      "      setosa       1.00      1.00      1.00        15\n",
      "  versicolor       0.80      0.92      0.86        13\n",
      "   virginica       0.93      0.82      0.87        17\n",
      "\n",
      "    accuracy                           0.91        45\n",
      "   macro avg       0.91      0.92      0.91        45\n",
      "weighted avg       0.92      0.91      0.91        45\n",
      "\n",
      "############################################################# \n",
      "\n",
      "For Depth 3 below are the values \n",
      "\n",
      "[[15  0  0]\n",
      " [ 0 12  1]\n",
      " [ 0  0 17]]\n",
      "              precision    recall  f1-score   support\n",
      "\n",
      "      setosa       1.00      1.00      1.00        15\n",
      "  versicolor       1.00      0.92      0.96        13\n",
      "   virginica       0.94      1.00      0.97        17\n",
      "\n",
      "    accuracy                           0.98        45\n",
      "   macro avg       0.98      0.97      0.98        45\n",
      "weighted avg       0.98      0.98      0.98        45\n",
      "\n",
      "############################################################# \n",
      "\n",
      "For Depth 4 below are the values \n",
      "\n",
      "[[15  0  0]\n",
      " [ 0 12  1]\n",
      " [ 0  0 17]]\n",
      "              precision    recall  f1-score   support\n",
      "\n",
      "      setosa       1.00      1.00      1.00        15\n",
      "  versicolor       1.00      0.92      0.96        13\n",
      "   virginica       0.94      1.00      0.97        17\n",
      "\n",
      "    accuracy                           0.98        45\n",
      "   macro avg       0.98      0.97      0.98        45\n",
      "weighted avg       0.98      0.98      0.98        45\n",
      "\n",
      "############################################################# \n",
      "\n",
      "For Depth 5 below are the values \n",
      "\n",
      "[[15  0  0]\n",
      " [ 0 12  1]\n",
      " [ 0  0 17]]\n",
      "              precision    recall  f1-score   support\n",
      "\n",
      "      setosa       1.00      1.00      1.00        15\n",
      "  versicolor       1.00      0.92      0.96        13\n",
      "   virginica       0.94      1.00      0.97        17\n",
      "\n",
      "    accuracy                           0.98        45\n",
      "   macro avg       0.98      0.97      0.98        45\n",
      "weighted avg       0.98      0.98      0.98        45\n",
      "\n",
      "############################################################# \n",
      "\n"
     ]
    },
    {
     "name": "stderr",
     "output_type": "stream",
     "text": [
      "C:\\Users\\venka\\Anaconda3\\lib\\site-packages\\sklearn\\metrics\\classification.py:1437: UndefinedMetricWarning: Precision and F-score are ill-defined and being set to 0.0 in labels with no predicted samples.\n",
      "  'precision', 'predicted', average, warn_for)\n"
     ]
    }
   ],
   "source": [
    "xTrainp1,xTestp1,yTrainp1,yTestp1=train_test_split(pdDatap1.iloc[:,:-1],pdDatap1.iloc[:,-1],test_size=0.3)\n",
    "for i in range(1,6):\n",
    "    print(\"For Depth {0} below are the values \\n\".format(i))\n",
    "    dtp1=DecisionTreeClassifier(min_samples_split=5,min_samples_leaf=2,max_depth=i)\n",
    "    dtp1.fit(xTrainp1, yTrainp1)\n",
    "    predictp1=dtp1.predict(xTestp1)\n",
    "    print(confusion_matrix(yTestp1,predictp1))\n",
    "    print(classification_report(y_true=yTestp1,y_pred=predictp1,target_names=datap1.target_names))\n",
    "    print('############################################################# \\n')\n",
    "#     print('Micro precision is {0}'.format(precision_score(y_true=yTest,y_pred=predict,average='micro')))\n",
    "#     print('Macro precision is {0}'.format(precision_score(y_true=yTest,y_pred=predict,average='macro')))\n",
    "#     print('Weighted precision is {0}'.format(precision_score(y_true=yTest,y_pred=predict,average='weighted')))\n",
    "#     print('############################################################# \\n')\n",
    "#     print('Micro Recall is {0}'.format(recall_score(y_true=yTest,y_pred=predict,average='micro')))\n",
    "#     print('Macro Recall is {0}'.format(recall_score(y_true=yTest,y_pred=predict,average='macro')))\n",
    "#     print('Weighted Recal is {0}'.format(recall_score(y_true=yTest,y_pred=predict,average='weighted')))\n",
    "#     print('############################################################# \\n')\n",
    "#     print('Micro f1Score is {0}'.format(f1_score(y_true=yTest,y_pred=predict,average='micro')))\n",
    "#     print('Macro f1Score is {0}'.format(f1_score(y_true=yTest,y_pred=predict,average='macro')))\n",
    "#     print('Weighted f1Score is {0}'.format(f1_score(y_true=yTest,y_pred=predict,average='weighted')))"
   ]
  },
  {
   "cell_type": "markdown",
   "metadata": {},
   "source": [
    "The recall and precision vallues increase  as the height of the tree increases as there is more IG at each level so the maximum Precision and recall are observed at height 2 to 5.<br>\n",
    "The ***f1-score*** increases if the bot the perecision and recall are high this can be obsereved from the height 2-5.<br>\n",
    "***Micro*** calculates the metrics taking the True Positive,True Negative,False Positive ,False negative into consideration.<br>\n",
    "***Macro*** calclates the metrics without taking the class imbalance into consideration.<br>\n",
    "***Weighted*** calcluates the metrics taking into consieration of weighted imbalances.<br>"
   ]
  },
  {
   "cell_type": "markdown",
   "metadata": {},
   "source": [
    "## Problem2"
   ]
  },
  {
   "cell_type": "code",
   "execution_count": 2,
   "metadata": {},
   "outputs": [],
   "source": [
    "breastCancerDatap2=pd.read_csv(\"https://archive.ics.uci.edu/ml/machine-learning-databases/breast-cancer-wisconsin/breast-cancer-wisconsin.data\",header=None,\n",
    "                             names=['Samplenumber','ClumpThickness','UniformityCellSize','UniformCellShape','MarginAdhesion','SingleCellSize','BareNuclei','BlandChromatin','NormalNucl','Mitoses','Class'],na_values=['?'])"
   ]
  },
  {
   "cell_type": "code",
   "execution_count": 3,
   "metadata": {},
   "outputs": [
    {
     "data": {
      "text/plain": [
       "True"
      ]
     },
     "execution_count": 3,
     "metadata": {},
     "output_type": "execute_result"
    }
   ],
   "source": [
    "breastCancerDatap2.isna().values.any()"
   ]
  },
  {
   "cell_type": "code",
   "execution_count": 4,
   "metadata": {},
   "outputs": [
    {
     "data": {
      "text/plain": [
       "True"
      ]
     },
     "execution_count": 4,
     "metadata": {},
     "output_type": "execute_result"
    }
   ],
   "source": [
    "breastCancerDatap2.isnull().values.any()"
   ]
  },
  {
   "cell_type": "code",
   "execution_count": 5,
   "metadata": {},
   "outputs": [
    {
     "name": "stdout",
     "output_type": "stream",
     "text": [
      "Samplenumber            int64\n",
      "ClumpThickness          int64\n",
      "UniformityCellSize      int64\n",
      "UniformCellShape        int64\n",
      "MarginAdhesion          int64\n",
      "SingleCellSize          int64\n",
      "BareNuclei            float64\n",
      "BlandChromatin          int64\n",
      "NormalNucl              int64\n",
      "Mitoses                 int64\n",
      "Class                   int64\n",
      "dtype: object\n"
     ]
    }
   ],
   "source": [
    "print(breastCancerDatap2.dtypes)"
   ]
  },
  {
   "cell_type": "code",
   "execution_count": 6,
   "metadata": {},
   "outputs": [
    {
     "data": {
      "text/plain": [
       "1.0     402\n",
       "10.0    132\n",
       "5.0      30\n",
       "2.0      30\n",
       "3.0      28\n",
       "8.0      21\n",
       "4.0      19\n",
       "9.0       9\n",
       "7.0       8\n",
       "6.0       4\n",
       "Name: BareNuclei, dtype: int64"
      ]
     },
     "execution_count": 6,
     "metadata": {},
     "output_type": "execute_result"
    }
   ],
   "source": [
    "breastCancerDatap2['BareNuclei'].value_counts()"
   ]
  },
  {
   "cell_type": "code",
   "execution_count": 7,
   "metadata": {},
   "outputs": [
    {
     "name": "stdout",
     "output_type": "stream",
     "text": [
      "<class 'pandas.core.frame.DataFrame'>\n",
      "RangeIndex: 699 entries, 0 to 698\n",
      "Data columns (total 11 columns):\n",
      "Samplenumber          699 non-null int64\n",
      "ClumpThickness        699 non-null int64\n",
      "UniformityCellSize    699 non-null int64\n",
      "UniformCellShape      699 non-null int64\n",
      "MarginAdhesion        699 non-null int64\n",
      "SingleCellSize        699 non-null int64\n",
      "BareNuclei            683 non-null float64\n",
      "BlandChromatin        699 non-null int64\n",
      "NormalNucl            699 non-null int64\n",
      "Mitoses               699 non-null int64\n",
      "Class                 699 non-null int64\n",
      "dtypes: float64(1), int64(10)\n",
      "memory usage: 60.2 KB\n"
     ]
    }
   ],
   "source": [
    "breastCancerDatap2.info()"
   ]
  },
  {
   "cell_type": "code",
   "execution_count": 8,
   "metadata": {},
   "outputs": [],
   "source": [
    "imputep2=SimpleImputer(strategy='mean')\n",
    "breastCancerDatap2['BareNuclei']=imputep2.fit_transform(breastCancerDatap2[['BareNuclei']])"
   ]
  },
  {
   "cell_type": "code",
   "execution_count": 9,
   "metadata": {},
   "outputs": [],
   "source": [
    "xTrainPr2,xTestpr2,yTrainpr2,yTestpr2=train_test_split(breastCancerDatap2.iloc[:,:-1],breastCancerDatap2.iloc[:,-1],test_size=0.3,)"
   ]
  },
  {
   "cell_type": "code",
   "execution_count": 10,
   "metadata": {},
   "outputs": [
    {
     "name": "stdout",
     "output_type": "stream",
     "text": [
      "(489, 10)\n",
      "(210, 10)\n",
      "(489,)\n",
      "(210,)\n"
     ]
    }
   ],
   "source": [
    "print(xTrainPr2.shape)\n",
    "print(xTestpr2.shape)\n",
    "print(yTrainpr2.shape)\n",
    "print(yTestpr2.shape)"
   ]
  },
  {
   "cell_type": "code",
   "execution_count": 11,
   "metadata": {},
   "outputs": [
    {
     "name": "stdout",
     "output_type": "stream",
     "text": [
      "              precision    recall  f1-score   support\n",
      "\n",
      "           2       0.98      0.90      0.93       136\n",
      "           4       0.84      0.96      0.89        74\n",
      "\n",
      "    accuracy                           0.92       210\n",
      "   macro avg       0.91      0.93      0.91       210\n",
      "weighted avg       0.93      0.92      0.92       210\n",
      "\n",
      "[[122  14]\n",
      " [  3  71]]\n"
     ]
    }
   ],
   "source": [
    "dtPr2=DecisionTreeClassifier(min_samples_leaf=2,min_samples_split=5,max_depth=1)\n",
    "dtPr2.fit(xTrainPr2,yTrainpr2)\n",
    "predictPr2=dtPr2.predict(xTestpr2)\n",
    "print(classification_report(y_true=yTestpr2,y_pred=predictPr2))\n",
    "print(confusion_matrix(y_true=yTestpr2,y_pred=predictPr2))"
   ]
  },
  {
   "cell_type": "code",
   "execution_count": 12,
   "metadata": {},
   "outputs": [
    {
     "data": {
      "image/svg+xml": [
       "<?xml version=\"1.0\" encoding=\"UTF-8\" standalone=\"no\"?>\r\n",
       "<!DOCTYPE svg PUBLIC \"-//W3C//DTD SVG 1.1//EN\"\r\n",
       " \"http://www.w3.org/Graphics/SVG/1.1/DTD/svg11.dtd\">\r\n",
       "<!-- Generated by graphviz version 2.38.0 (20140413.2041)\r\n",
       " -->\r\n",
       "<!-- Title: Tree Pages: 1 -->\r\n",
       "<svg width=\"242pt\" height=\"165pt\"\r\n",
       " viewBox=\"0.00 0.00 241.50 165.00\" xmlns=\"http://www.w3.org/2000/svg\" xmlns:xlink=\"http://www.w3.org/1999/xlink\">\r\n",
       "<g id=\"graph0\" class=\"graph\" transform=\"scale(1 1) rotate(0) translate(4 161)\">\r\n",
       "<title>Tree</title>\r\n",
       "<polygon fill=\"white\" stroke=\"none\" points=\"-4,4 -4,-161 237.5,-161 237.5,4 -4,4\"/>\r\n",
       "<!-- 0 -->\r\n",
       "<g id=\"node1\" class=\"node\"><title>0</title>\r\n",
       "<polygon fill=\"none\" stroke=\"black\" points=\"174,-157 56,-157 56,-89 174,-89 174,-157\"/>\r\n",
       "<text text-anchor=\"middle\" x=\"115\" y=\"-141.8\" font-family=\"Times New Roman,serif\" font-size=\"14.00\">X[2] &lt;= 2.5</text>\r\n",
       "<text text-anchor=\"middle\" x=\"115\" y=\"-126.8\" font-family=\"Times New Roman,serif\" font-size=\"14.00\">gini = 0.45</text>\r\n",
       "<text text-anchor=\"middle\" x=\"115\" y=\"-111.8\" font-family=\"Times New Roman,serif\" font-size=\"14.00\">samples = 489</text>\r\n",
       "<text text-anchor=\"middle\" x=\"115\" y=\"-96.8\" font-family=\"Times New Roman,serif\" font-size=\"14.00\">value = [322, 167]</text>\r\n",
       "</g>\r\n",
       "<!-- 1 -->\r\n",
       "<g id=\"node2\" class=\"node\"><title>1</title>\r\n",
       "<polygon fill=\"none\" stroke=\"black\" points=\"104,-53 0,-53 0,-0 104,-0 104,-53\"/>\r\n",
       "<text text-anchor=\"middle\" x=\"52\" y=\"-37.8\" font-family=\"Times New Roman,serif\" font-size=\"14.00\">gini = 0.057</text>\r\n",
       "<text text-anchor=\"middle\" x=\"52\" y=\"-22.8\" font-family=\"Times New Roman,serif\" font-size=\"14.00\">samples = 304</text>\r\n",
       "<text text-anchor=\"middle\" x=\"52\" y=\"-7.8\" font-family=\"Times New Roman,serif\" font-size=\"14.00\">value = [295, 9]</text>\r\n",
       "</g>\r\n",
       "<!-- 0&#45;&gt;1 -->\r\n",
       "<g id=\"edge1\" class=\"edge\"><title>0&#45;&gt;1</title>\r\n",
       "<path fill=\"none\" stroke=\"black\" d=\"M92.9657,-88.9485C87.1109,-80.1664 80.7753,-70.6629 74.8767,-61.815\"/>\r\n",
       "<polygon fill=\"black\" stroke=\"black\" points=\"77.617,-59.6158 69.1578,-53.2367 71.7927,-63.4987 77.617,-59.6158\"/>\r\n",
       "<text text-anchor=\"middle\" x=\"64.2549\" y=\"-74.0512\" font-family=\"Times New Roman,serif\" font-size=\"14.00\">True</text>\r\n",
       "</g>\r\n",
       "<!-- 2 -->\r\n",
       "<g id=\"node3\" class=\"node\"><title>2</title>\r\n",
       "<polygon fill=\"none\" stroke=\"black\" points=\"233.5,-53 122.5,-53 122.5,-0 233.5,-0 233.5,-53\"/>\r\n",
       "<text text-anchor=\"middle\" x=\"178\" y=\"-37.8\" font-family=\"Times New Roman,serif\" font-size=\"14.00\">gini = 0.249</text>\r\n",
       "<text text-anchor=\"middle\" x=\"178\" y=\"-22.8\" font-family=\"Times New Roman,serif\" font-size=\"14.00\">samples = 185</text>\r\n",
       "<text text-anchor=\"middle\" x=\"178\" y=\"-7.8\" font-family=\"Times New Roman,serif\" font-size=\"14.00\">value = [27, 158]</text>\r\n",
       "</g>\r\n",
       "<!-- 0&#45;&gt;2 -->\r\n",
       "<g id=\"edge2\" class=\"edge\"><title>0&#45;&gt;2</title>\r\n",
       "<path fill=\"none\" stroke=\"black\" d=\"M137.034,-88.9485C142.889,-80.1664 149.225,-70.6629 155.123,-61.815\"/>\r\n",
       "<polygon fill=\"black\" stroke=\"black\" points=\"158.207,-63.4987 160.842,-53.2367 152.383,-59.6158 158.207,-63.4987\"/>\r\n",
       "<text text-anchor=\"middle\" x=\"165.745\" y=\"-74.0512\" font-family=\"Times New Roman,serif\" font-size=\"14.00\">False</text>\r\n",
       "</g>\r\n",
       "</g>\r\n",
       "</svg>\r\n"
      ],
      "text/plain": [
       "<graphviz.files.Source at 0x1b1dee5fd48>"
      ]
     },
     "execution_count": 12,
     "metadata": {},
     "output_type": "execute_result"
    }
   ],
   "source": [
    "graphviz.Source(tree.export_graphviz(dtPr2))"
   ]
  },
  {
   "cell_type": "code",
   "execution_count": 13,
   "metadata": {},
   "outputs": [
    {
     "name": "stdout",
     "output_type": "stream",
     "text": [
      "              precision    recall  f1-score   support\n",
      "\n",
      "           2       0.97      0.94      0.96       136\n",
      "           4       0.90      0.95      0.92        74\n",
      "\n",
      "    accuracy                           0.94       210\n",
      "   macro avg       0.93      0.94      0.94       210\n",
      "weighted avg       0.94      0.94      0.94       210\n",
      "\n",
      "[[128   8]\n",
      " [  4  70]]\n"
     ]
    }
   ],
   "source": [
    "dtPr2v2=DecisionTreeClassifier(min_samples_leaf=2,min_samples_split=5,max_depth=2)\n",
    "dtPr2v2.fit(xTrainPr2,yTrainpr2)\n",
    "predictPr2v2=dtPr2v2.predict(xTestpr2)\n",
    "print(classification_report(y_true=yTestpr2,y_pred=predictPr2v2))\n",
    "print(confusion_matrix(y_true=yTestpr2,y_pred=predictPr2v2))"
   ]
  },
  {
   "cell_type": "code",
   "execution_count": 14,
   "metadata": {},
   "outputs": [
    {
     "data": {
      "image/svg+xml": [
       "<?xml version=\"1.0\" encoding=\"UTF-8\" standalone=\"no\"?>\r\n",
       "<!DOCTYPE svg PUBLIC \"-//W3C//DTD SVG 1.1//EN\"\r\n",
       " \"http://www.w3.org/Graphics/SVG/1.1/DTD/svg11.dtd\">\r\n",
       "<!-- Generated by graphviz version 2.38.0 (20140413.2041)\r\n",
       " -->\r\n",
       "<!-- Title: Tree Pages: 1 -->\r\n",
       "<svg width=\"474pt\" height=\"269pt\"\r\n",
       " viewBox=\"0.00 0.00 473.50 269.00\" xmlns=\"http://www.w3.org/2000/svg\" xmlns:xlink=\"http://www.w3.org/1999/xlink\">\r\n",
       "<g id=\"graph0\" class=\"graph\" transform=\"scale(1 1) rotate(0) translate(4 265)\">\r\n",
       "<title>Tree</title>\r\n",
       "<polygon fill=\"white\" stroke=\"none\" points=\"-4,4 -4,-265 469.5,-265 469.5,4 -4,4\"/>\r\n",
       "<!-- 0 -->\r\n",
       "<g id=\"node1\" class=\"node\"><title>0</title>\r\n",
       "<polygon fill=\"none\" stroke=\"black\" points=\"286,-261 168,-261 168,-193 286,-193 286,-261\"/>\r\n",
       "<text text-anchor=\"middle\" x=\"227\" y=\"-245.8\" font-family=\"Times New Roman,serif\" font-size=\"14.00\">X[2] &lt;= 2.5</text>\r\n",
       "<text text-anchor=\"middle\" x=\"227\" y=\"-230.8\" font-family=\"Times New Roman,serif\" font-size=\"14.00\">gini = 0.45</text>\r\n",
       "<text text-anchor=\"middle\" x=\"227\" y=\"-215.8\" font-family=\"Times New Roman,serif\" font-size=\"14.00\">samples = 489</text>\r\n",
       "<text text-anchor=\"middle\" x=\"227\" y=\"-200.8\" font-family=\"Times New Roman,serif\" font-size=\"14.00\">value = [322, 167]</text>\r\n",
       "</g>\r\n",
       "<!-- 1 -->\r\n",
       "<g id=\"node2\" class=\"node\"><title>1</title>\r\n",
       "<polygon fill=\"none\" stroke=\"black\" points=\"216,-157 112,-157 112,-89 216,-89 216,-157\"/>\r\n",
       "<text text-anchor=\"middle\" x=\"164\" y=\"-141.8\" font-family=\"Times New Roman,serif\" font-size=\"14.00\">X[6] &lt;= 6.0</text>\r\n",
       "<text text-anchor=\"middle\" x=\"164\" y=\"-126.8\" font-family=\"Times New Roman,serif\" font-size=\"14.00\">gini = 0.057</text>\r\n",
       "<text text-anchor=\"middle\" x=\"164\" y=\"-111.8\" font-family=\"Times New Roman,serif\" font-size=\"14.00\">samples = 304</text>\r\n",
       "<text text-anchor=\"middle\" x=\"164\" y=\"-96.8\" font-family=\"Times New Roman,serif\" font-size=\"14.00\">value = [295, 9]</text>\r\n",
       "</g>\r\n",
       "<!-- 0&#45;&gt;1 -->\r\n",
       "<g id=\"edge1\" class=\"edge\"><title>0&#45;&gt;1</title>\r\n",
       "<path fill=\"none\" stroke=\"black\" d=\"M206.546,-192.884C201.264,-184.332 195.508,-175.013 189.986,-166.072\"/>\r\n",
       "<polygon fill=\"black\" stroke=\"black\" points=\"192.8,-163.968 184.567,-157.299 186.844,-167.647 192.8,-163.968\"/>\r\n",
       "<text text-anchor=\"middle\" x=\"178.817\" y=\"-177.929\" font-family=\"Times New Roman,serif\" font-size=\"14.00\">True</text>\r\n",
       "</g>\r\n",
       "<!-- 4 -->\r\n",
       "<g id=\"node5\" class=\"node\"><title>4</title>\r\n",
       "<polygon fill=\"none\" stroke=\"black\" points=\"345.5,-157 234.5,-157 234.5,-89 345.5,-89 345.5,-157\"/>\r\n",
       "<text text-anchor=\"middle\" x=\"290\" y=\"-141.8\" font-family=\"Times New Roman,serif\" font-size=\"14.00\">X[3] &lt;= 2.5</text>\r\n",
       "<text text-anchor=\"middle\" x=\"290\" y=\"-126.8\" font-family=\"Times New Roman,serif\" font-size=\"14.00\">gini = 0.249</text>\r\n",
       "<text text-anchor=\"middle\" x=\"290\" y=\"-111.8\" font-family=\"Times New Roman,serif\" font-size=\"14.00\">samples = 185</text>\r\n",
       "<text text-anchor=\"middle\" x=\"290\" y=\"-96.8\" font-family=\"Times New Roman,serif\" font-size=\"14.00\">value = [27, 158]</text>\r\n",
       "</g>\r\n",
       "<!-- 0&#45;&gt;4 -->\r\n",
       "<g id=\"edge4\" class=\"edge\"><title>0&#45;&gt;4</title>\r\n",
       "<path fill=\"none\" stroke=\"black\" d=\"M247.454,-192.884C252.736,-184.332 258.492,-175.013 264.014,-166.072\"/>\r\n",
       "<polygon fill=\"black\" stroke=\"black\" points=\"267.156,-167.647 269.433,-157.299 261.2,-163.968 267.156,-167.647\"/>\r\n",
       "<text text-anchor=\"middle\" x=\"275.183\" y=\"-177.929\" font-family=\"Times New Roman,serif\" font-size=\"14.00\">False</text>\r\n",
       "</g>\r\n",
       "<!-- 2 -->\r\n",
       "<g id=\"node3\" class=\"node\"><title>2</title>\r\n",
       "<polygon fill=\"none\" stroke=\"black\" points=\"104,-53 0,-53 0,-0 104,-0 104,-53\"/>\r\n",
       "<text text-anchor=\"middle\" x=\"52\" y=\"-37.8\" font-family=\"Times New Roman,serif\" font-size=\"14.00\">gini = 0.026</text>\r\n",
       "<text text-anchor=\"middle\" x=\"52\" y=\"-22.8\" font-family=\"Times New Roman,serif\" font-size=\"14.00\">samples = 298</text>\r\n",
       "<text text-anchor=\"middle\" x=\"52\" y=\"-7.8\" font-family=\"Times New Roman,serif\" font-size=\"14.00\">value = [294, 4]</text>\r\n",
       "</g>\r\n",
       "<!-- 1&#45;&gt;2 -->\r\n",
       "<g id=\"edge2\" class=\"edge\"><title>1&#45;&gt;2</title>\r\n",
       "<path fill=\"none\" stroke=\"black\" d=\"M124.828,-88.9485C113.66,-79.526 101.509,-69.2731 90.3888,-59.8906\"/>\r\n",
       "<polygon fill=\"black\" stroke=\"black\" points=\"92.4028,-57.0104 82.5028,-53.2367 87.8886,-62.3605 92.4028,-57.0104\"/>\r\n",
       "</g>\r\n",
       "<!-- 3 -->\r\n",
       "<g id=\"node4\" class=\"node\"><title>3</title>\r\n",
       "<polygon fill=\"none\" stroke=\"black\" points=\"213.5,-53 122.5,-53 122.5,-0 213.5,-0 213.5,-53\"/>\r\n",
       "<text text-anchor=\"middle\" x=\"168\" y=\"-37.8\" font-family=\"Times New Roman,serif\" font-size=\"14.00\">gini = 0.278</text>\r\n",
       "<text text-anchor=\"middle\" x=\"168\" y=\"-22.8\" font-family=\"Times New Roman,serif\" font-size=\"14.00\">samples = 6</text>\r\n",
       "<text text-anchor=\"middle\" x=\"168\" y=\"-7.8\" font-family=\"Times New Roman,serif\" font-size=\"14.00\">value = [1, 5]</text>\r\n",
       "</g>\r\n",
       "<!-- 1&#45;&gt;3 -->\r\n",
       "<g id=\"edge3\" class=\"edge\"><title>1&#45;&gt;3</title>\r\n",
       "<path fill=\"none\" stroke=\"black\" d=\"M165.399,-88.9485C165.748,-80.7153 166.123,-71.848 166.477,-63.4814\"/>\r\n",
       "<polygon fill=\"black\" stroke=\"black\" points=\"169.984,-63.3758 166.911,-53.2367 162.991,-63.0797 169.984,-63.3758\"/>\r\n",
       "</g>\r\n",
       "<!-- 5 -->\r\n",
       "<g id=\"node6\" class=\"node\"><title>5</title>\r\n",
       "<polygon fill=\"none\" stroke=\"black\" points=\"336,-53 238,-53 238,-0 336,-0 336,-53\"/>\r\n",
       "<text text-anchor=\"middle\" x=\"287\" y=\"-37.8\" font-family=\"Times New Roman,serif\" font-size=\"14.00\">gini = 0.32</text>\r\n",
       "<text text-anchor=\"middle\" x=\"287\" y=\"-22.8\" font-family=\"Times New Roman,serif\" font-size=\"14.00\">samples = 15</text>\r\n",
       "<text text-anchor=\"middle\" x=\"287\" y=\"-7.8\" font-family=\"Times New Roman,serif\" font-size=\"14.00\">value = [12, 3]</text>\r\n",
       "</g>\r\n",
       "<!-- 4&#45;&gt;5 -->\r\n",
       "<g id=\"edge5\" class=\"edge\"><title>4&#45;&gt;5</title>\r\n",
       "<path fill=\"none\" stroke=\"black\" d=\"M288.951,-88.9485C288.689,-80.7153 288.408,-71.848 288.142,-63.4814\"/>\r\n",
       "<polygon fill=\"black\" stroke=\"black\" points=\"291.633,-63.1206 287.817,-53.2367 284.636,-63.3428 291.633,-63.1206\"/>\r\n",
       "</g>\r\n",
       "<!-- 6 -->\r\n",
       "<g id=\"node7\" class=\"node\"><title>6</title>\r\n",
       "<polygon fill=\"none\" stroke=\"black\" points=\"465.5,-53 354.5,-53 354.5,-0 465.5,-0 465.5,-53\"/>\r\n",
       "<text text-anchor=\"middle\" x=\"410\" y=\"-37.8\" font-family=\"Times New Roman,serif\" font-size=\"14.00\">gini = 0.161</text>\r\n",
       "<text text-anchor=\"middle\" x=\"410\" y=\"-22.8\" font-family=\"Times New Roman,serif\" font-size=\"14.00\">samples = 170</text>\r\n",
       "<text text-anchor=\"middle\" x=\"410\" y=\"-7.8\" font-family=\"Times New Roman,serif\" font-size=\"14.00\">value = [15, 155]</text>\r\n",
       "</g>\r\n",
       "<!-- 4&#45;&gt;6 -->\r\n",
       "<g id=\"edge6\" class=\"edge\"><title>4&#45;&gt;6</title>\r\n",
       "<path fill=\"none\" stroke=\"black\" d=\"M331.97,-88.9485C344.051,-79.4346 357.208,-69.074 369.216,-59.6175\"/>\r\n",
       "<polygon fill=\"black\" stroke=\"black\" points=\"371.628,-62.1734 377.318,-53.2367 367.297,-56.6739 371.628,-62.1734\"/>\r\n",
       "</g>\r\n",
       "</g>\r\n",
       "</svg>\r\n"
      ],
      "text/plain": [
       "<graphviz.files.Source at 0x1b1dee979c8>"
      ]
     },
     "execution_count": 14,
     "metadata": {},
     "output_type": "execute_result"
    }
   ],
   "source": [
    "graphviz.Source(tree.export_graphviz(dtPr2v2))"
   ]
  },
  {
   "cell_type": "markdown",
   "metadata": {},
   "source": [
    "## Problem 3"
   ]
  },
  {
   "cell_type": "code",
   "execution_count": 2,
   "metadata": {},
   "outputs": [],
   "source": [
    "dataPr3=pd.read_csv('https://archive.ics.uci.edu/ml/machine-learning-databases/breast-cancer-wisconsin/wdbc.data',names=['id', 'diagnosis','radiusMean','textureMean','perimeterMean','areaMean','smoothnessMean','compactnessMean', 'concavityMean','oncavePointsMean', 'symmetryMean', 'fractalDimensionMean','radiusSe', 'textureSe', 'perimeterSe', 'areaSe', 'smoothnessSe','compactnessSe', 'concavitySe', 'concave pointsSe', 'symmetrySe','fractalDimensionSe', 'radiusWorst', 'textureWorst','perimeterWorst', 'areaWorst', 'smoothnessWorst','compactnessWorst', 'concavityWorst', 'concavePointsWorst','symmetryWorst', 'fractalDimensionWorst'])"
   ]
  },
  {
   "cell_type": "code",
   "execution_count": 3,
   "metadata": {},
   "outputs": [
    {
     "data": {
      "text/html": [
       "<div>\n",
       "<style scoped>\n",
       "    .dataframe tbody tr th:only-of-type {\n",
       "        vertical-align: middle;\n",
       "    }\n",
       "\n",
       "    .dataframe tbody tr th {\n",
       "        vertical-align: top;\n",
       "    }\n",
       "\n",
       "    .dataframe thead th {\n",
       "        text-align: right;\n",
       "    }\n",
       "</style>\n",
       "<table border=\"1\" class=\"dataframe\">\n",
       "  <thead>\n",
       "    <tr style=\"text-align: right;\">\n",
       "      <th></th>\n",
       "      <th>id</th>\n",
       "      <th>diagnosis</th>\n",
       "      <th>radiusMean</th>\n",
       "      <th>textureMean</th>\n",
       "      <th>perimeterMean</th>\n",
       "      <th>areaMean</th>\n",
       "      <th>smoothnessMean</th>\n",
       "      <th>compactnessMean</th>\n",
       "      <th>concavityMean</th>\n",
       "      <th>oncavePointsMean</th>\n",
       "      <th>...</th>\n",
       "      <th>radiusWorst</th>\n",
       "      <th>textureWorst</th>\n",
       "      <th>perimeterWorst</th>\n",
       "      <th>areaWorst</th>\n",
       "      <th>smoothnessWorst</th>\n",
       "      <th>compactnessWorst</th>\n",
       "      <th>concavityWorst</th>\n",
       "      <th>concavePointsWorst</th>\n",
       "      <th>symmetryWorst</th>\n",
       "      <th>fractalDimensionWorst</th>\n",
       "    </tr>\n",
       "  </thead>\n",
       "  <tbody>\n",
       "    <tr>\n",
       "      <td>0</td>\n",
       "      <td>842302</td>\n",
       "      <td>M</td>\n",
       "      <td>17.99</td>\n",
       "      <td>10.38</td>\n",
       "      <td>122.80</td>\n",
       "      <td>1001.0</td>\n",
       "      <td>0.11840</td>\n",
       "      <td>0.27760</td>\n",
       "      <td>0.3001</td>\n",
       "      <td>0.14710</td>\n",
       "      <td>...</td>\n",
       "      <td>25.38</td>\n",
       "      <td>17.33</td>\n",
       "      <td>184.60</td>\n",
       "      <td>2019.0</td>\n",
       "      <td>0.1622</td>\n",
       "      <td>0.6656</td>\n",
       "      <td>0.7119</td>\n",
       "      <td>0.2654</td>\n",
       "      <td>0.4601</td>\n",
       "      <td>0.11890</td>\n",
       "    </tr>\n",
       "    <tr>\n",
       "      <td>1</td>\n",
       "      <td>842517</td>\n",
       "      <td>M</td>\n",
       "      <td>20.57</td>\n",
       "      <td>17.77</td>\n",
       "      <td>132.90</td>\n",
       "      <td>1326.0</td>\n",
       "      <td>0.08474</td>\n",
       "      <td>0.07864</td>\n",
       "      <td>0.0869</td>\n",
       "      <td>0.07017</td>\n",
       "      <td>...</td>\n",
       "      <td>24.99</td>\n",
       "      <td>23.41</td>\n",
       "      <td>158.80</td>\n",
       "      <td>1956.0</td>\n",
       "      <td>0.1238</td>\n",
       "      <td>0.1866</td>\n",
       "      <td>0.2416</td>\n",
       "      <td>0.1860</td>\n",
       "      <td>0.2750</td>\n",
       "      <td>0.08902</td>\n",
       "    </tr>\n",
       "    <tr>\n",
       "      <td>2</td>\n",
       "      <td>84300903</td>\n",
       "      <td>M</td>\n",
       "      <td>19.69</td>\n",
       "      <td>21.25</td>\n",
       "      <td>130.00</td>\n",
       "      <td>1203.0</td>\n",
       "      <td>0.10960</td>\n",
       "      <td>0.15990</td>\n",
       "      <td>0.1974</td>\n",
       "      <td>0.12790</td>\n",
       "      <td>...</td>\n",
       "      <td>23.57</td>\n",
       "      <td>25.53</td>\n",
       "      <td>152.50</td>\n",
       "      <td>1709.0</td>\n",
       "      <td>0.1444</td>\n",
       "      <td>0.4245</td>\n",
       "      <td>0.4504</td>\n",
       "      <td>0.2430</td>\n",
       "      <td>0.3613</td>\n",
       "      <td>0.08758</td>\n",
       "    </tr>\n",
       "    <tr>\n",
       "      <td>3</td>\n",
       "      <td>84348301</td>\n",
       "      <td>M</td>\n",
       "      <td>11.42</td>\n",
       "      <td>20.38</td>\n",
       "      <td>77.58</td>\n",
       "      <td>386.1</td>\n",
       "      <td>0.14250</td>\n",
       "      <td>0.28390</td>\n",
       "      <td>0.2414</td>\n",
       "      <td>0.10520</td>\n",
       "      <td>...</td>\n",
       "      <td>14.91</td>\n",
       "      <td>26.50</td>\n",
       "      <td>98.87</td>\n",
       "      <td>567.7</td>\n",
       "      <td>0.2098</td>\n",
       "      <td>0.8663</td>\n",
       "      <td>0.6869</td>\n",
       "      <td>0.2575</td>\n",
       "      <td>0.6638</td>\n",
       "      <td>0.17300</td>\n",
       "    </tr>\n",
       "    <tr>\n",
       "      <td>4</td>\n",
       "      <td>84358402</td>\n",
       "      <td>M</td>\n",
       "      <td>20.29</td>\n",
       "      <td>14.34</td>\n",
       "      <td>135.10</td>\n",
       "      <td>1297.0</td>\n",
       "      <td>0.10030</td>\n",
       "      <td>0.13280</td>\n",
       "      <td>0.1980</td>\n",
       "      <td>0.10430</td>\n",
       "      <td>...</td>\n",
       "      <td>22.54</td>\n",
       "      <td>16.67</td>\n",
       "      <td>152.20</td>\n",
       "      <td>1575.0</td>\n",
       "      <td>0.1374</td>\n",
       "      <td>0.2050</td>\n",
       "      <td>0.4000</td>\n",
       "      <td>0.1625</td>\n",
       "      <td>0.2364</td>\n",
       "      <td>0.07678</td>\n",
       "    </tr>\n",
       "  </tbody>\n",
       "</table>\n",
       "<p>5 rows × 32 columns</p>\n",
       "</div>"
      ],
      "text/plain": [
       "         id diagnosis  radiusMean  textureMean  perimeterMean  areaMean  \\\n",
       "0    842302         M       17.99        10.38         122.80    1001.0   \n",
       "1    842517         M       20.57        17.77         132.90    1326.0   \n",
       "2  84300903         M       19.69        21.25         130.00    1203.0   \n",
       "3  84348301         M       11.42        20.38          77.58     386.1   \n",
       "4  84358402         M       20.29        14.34         135.10    1297.0   \n",
       "\n",
       "   smoothnessMean  compactnessMean  concavityMean  oncavePointsMean  ...  \\\n",
       "0         0.11840          0.27760         0.3001           0.14710  ...   \n",
       "1         0.08474          0.07864         0.0869           0.07017  ...   \n",
       "2         0.10960          0.15990         0.1974           0.12790  ...   \n",
       "3         0.14250          0.28390         0.2414           0.10520  ...   \n",
       "4         0.10030          0.13280         0.1980           0.10430  ...   \n",
       "\n",
       "   radiusWorst  textureWorst  perimeterWorst  areaWorst  smoothnessWorst  \\\n",
       "0        25.38         17.33          184.60     2019.0           0.1622   \n",
       "1        24.99         23.41          158.80     1956.0           0.1238   \n",
       "2        23.57         25.53          152.50     1709.0           0.1444   \n",
       "3        14.91         26.50           98.87      567.7           0.2098   \n",
       "4        22.54         16.67          152.20     1575.0           0.1374   \n",
       "\n",
       "   compactnessWorst  concavityWorst  concavePointsWorst  symmetryWorst  \\\n",
       "0            0.6656          0.7119              0.2654         0.4601   \n",
       "1            0.1866          0.2416              0.1860         0.2750   \n",
       "2            0.4245          0.4504              0.2430         0.3613   \n",
       "3            0.8663          0.6869              0.2575         0.6638   \n",
       "4            0.2050          0.4000              0.1625         0.2364   \n",
       "\n",
       "   fractalDimensionWorst  \n",
       "0                0.11890  \n",
       "1                0.08902  \n",
       "2                0.08758  \n",
       "3                0.17300  \n",
       "4                0.07678  \n",
       "\n",
       "[5 rows x 32 columns]"
      ]
     },
     "execution_count": 3,
     "metadata": {},
     "output_type": "execute_result"
    }
   ],
   "source": [
    "dataPr3.head()"
   ]
  },
  {
   "cell_type": "code",
   "execution_count": 4,
   "metadata": {},
   "outputs": [
    {
     "data": {
      "text/plain": [
       "(569,)"
      ]
     },
     "execution_count": 4,
     "metadata": {},
     "output_type": "execute_result"
    }
   ],
   "source": [
    "dataPr3.iloc[:,-1].shape"
   ]
  },
  {
   "cell_type": "code",
   "execution_count": 5,
   "metadata": {},
   "outputs": [
    {
     "data": {
      "text/plain": [
       "(569, 1)"
      ]
     },
     "execution_count": 5,
     "metadata": {},
     "output_type": "execute_result"
    }
   ],
   "source": [
    "dataPr3[[\"diagnosis\"]].shape"
   ]
  },
  {
   "cell_type": "code",
   "execution_count": 6,
   "metadata": {},
   "outputs": [],
   "source": [
    "pca=PCA(n_components=1)"
   ]
  },
  {
   "cell_type": "code",
   "execution_count": 7,
   "metadata": {},
   "outputs": [
    {
     "name": "stdout",
     "output_type": "stream",
     "text": [
      "[0.98204467]\n",
      "(569, 1)\n",
      "(569,)\n"
     ]
    }
   ],
   "source": [
    "prinicpalComponents=pca.fit_transform(dataPr3.iloc[:,2:])\n",
    "print(pca.explained_variance_ratio_)\n",
    "print(prinicpalComponents.shape)\n",
    "print(prinicpalComponents[:,0].shape)\n"
   ]
  },
  {
   "cell_type": "code",
   "execution_count": 8,
   "metadata": {},
   "outputs": [],
   "source": [
    "xTrainPr3,xTestPr3,yTrainPr3,yTestPr3=train_test_split(prinicpalComponents,dataPr3[[\"diagnosis\"]],test_size=0.3)"
   ]
  },
  {
   "cell_type": "code",
   "execution_count": 9,
   "metadata": {},
   "outputs": [
    {
     "name": "stdout",
     "output_type": "stream",
     "text": [
      "              precision    recall  f1-score   support\n",
      "\n",
      "           B       0.90      0.97      0.94       114\n",
      "           M       0.94      0.79      0.86        57\n",
      "\n",
      "    accuracy                           0.91       171\n",
      "   macro avg       0.92      0.88      0.90       171\n",
      "weighted avg       0.91      0.91      0.91       171\n",
      "\n"
     ]
    }
   ],
   "source": [
    "dtPr3=DecisionTreeClassifier(max_depth=1, min_samples_split=5, min_samples_leaf=2)\n",
    "dtPr3.fit(xTrainPr3,yTrainPr3)\n",
    "predict=dtPr3.predict(xTestPr3)\n",
    "print(classification_report(y_pred=predict,y_true=yTestPr3))"
   ]
  },
  {
   "cell_type": "code",
   "execution_count": 10,
   "metadata": {},
   "outputs": [
    {
     "name": "stdout",
     "output_type": "stream",
     "text": [
      "[[111   3]\n",
      " [ 12  45]]\n"
     ]
    }
   ],
   "source": [
    "print(confusion_matrix(y_pred=predict,y_true=yTestPr3))"
   ]
  },
  {
   "cell_type": "code",
   "execution_count": 11,
   "metadata": {},
   "outputs": [],
   "source": [
    "pca2=PCA(n_components=1)\n",
    "prinicpalComponentsv2=pca.fit_transform(dataPr3.iloc[:,2:])"
   ]
  },
  {
   "cell_type": "code",
   "execution_count": 12,
   "metadata": {},
   "outputs": [],
   "source": [
    "xTrainPr3v2,xTestPr3v2,yTrainPr3v2,yTestPr3v2=train_test_split(prinicpalComponentsv2,dataPr3[[\"diagnosis\"]],test_size=0.3)"
   ]
  },
  {
   "cell_type": "code",
   "execution_count": 13,
   "metadata": {},
   "outputs": [
    {
     "name": "stdout",
     "output_type": "stream",
     "text": [
      "              precision    recall  f1-score   support\n",
      "\n",
      "           B       0.64      0.71      0.67       112\n",
      "           M       0.31      0.25      0.28        59\n",
      "\n",
      "    accuracy                           0.55       171\n",
      "   macro avg       0.48      0.48      0.48       171\n",
      "weighted avg       0.53      0.55      0.54       171\n",
      "\n"
     ]
    }
   ],
   "source": [
    "dtPr3v2=DecisionTreeClassifier(max_depth=1, min_samples_split=5, min_samples_leaf=2)\n",
    "dtPr3v2.fit(xTrainPr3v2,yTrainPr3v2)\n",
    "predictv2=dtPr3v2.predict(xTestPr3v2)\n",
    "print(classification_report(y_pred=predict,y_true=yTestPr3v2))"
   ]
  },
  {
   "cell_type": "code",
   "execution_count": 14,
   "metadata": {},
   "outputs": [
    {
     "name": "stdout",
     "output_type": "stream",
     "text": [
      "[[109   3]\n",
      " [ 12  47]]\n"
     ]
    }
   ],
   "source": [
    "print(confusion_matrix(y_pred=predictv2,y_true=yTestPr3v2))"
   ]
  },
  {
   "cell_type": "markdown",
   "metadata": {},
   "source": [
    "## Problem4"
   ]
  },
  {
   "cell_type": "code",
   "execution_count": 2,
   "metadata": {},
   "outputs": [
    {
     "name": "stdout",
     "output_type": "stream",
     "text": [
      "(500,)\n",
      "(500,)\n"
     ]
    }
   ],
   "source": [
    "feature1p4=np.random.normal(5,2,500)\n",
    "feature2p4=np.random.normal(-5,2,500)\n",
    "print(feature1p4.shape)\n",
    "print(feature2p4.shape)\n",
    "class1p4=np.repeat(0,500)\n",
    "class2p4=np.repeat(1,500)\n",
    "data1p4=pd.DataFrame({'feature':feature1p4,'classLabel':class1p4})\n",
    "data2p4=pd.DataFrame({'feature':feature2p4,'classLabel':class2p4})"
   ]
  },
  {
   "cell_type": "code",
   "execution_count": 3,
   "metadata": {},
   "outputs": [
    {
     "data": {
      "text/html": [
       "<div>\n",
       "<style scoped>\n",
       "    .dataframe tbody tr th:only-of-type {\n",
       "        vertical-align: middle;\n",
       "    }\n",
       "\n",
       "    .dataframe tbody tr th {\n",
       "        vertical-align: top;\n",
       "    }\n",
       "\n",
       "    .dataframe thead th {\n",
       "        text-align: right;\n",
       "    }\n",
       "</style>\n",
       "<table border=\"1\" class=\"dataframe\">\n",
       "  <thead>\n",
       "    <tr style=\"text-align: right;\">\n",
       "      <th></th>\n",
       "      <th>feature</th>\n",
       "      <th>classLabel</th>\n",
       "    </tr>\n",
       "  </thead>\n",
       "  <tbody>\n",
       "    <tr>\n",
       "      <td>0</td>\n",
       "      <td>6.000080</td>\n",
       "      <td>0</td>\n",
       "    </tr>\n",
       "    <tr>\n",
       "      <td>1</td>\n",
       "      <td>0.550831</td>\n",
       "      <td>0</td>\n",
       "    </tr>\n",
       "    <tr>\n",
       "      <td>2</td>\n",
       "      <td>3.645289</td>\n",
       "      <td>0</td>\n",
       "    </tr>\n",
       "    <tr>\n",
       "      <td>3</td>\n",
       "      <td>6.771784</td>\n",
       "      <td>0</td>\n",
       "    </tr>\n",
       "    <tr>\n",
       "      <td>4</td>\n",
       "      <td>5.445052</td>\n",
       "      <td>0</td>\n",
       "    </tr>\n",
       "  </tbody>\n",
       "</table>\n",
       "</div>"
      ],
      "text/plain": [
       "    feature  classLabel\n",
       "0  6.000080           0\n",
       "1  0.550831           0\n",
       "2  3.645289           0\n",
       "3  6.771784           0\n",
       "4  5.445052           0"
      ]
     },
     "execution_count": 3,
     "metadata": {},
     "output_type": "execute_result"
    }
   ],
   "source": [
    "data1p4.head()"
   ]
  },
  {
   "cell_type": "code",
   "execution_count": 4,
   "metadata": {},
   "outputs": [
    {
     "data": {
      "text/html": [
       "<div>\n",
       "<style scoped>\n",
       "    .dataframe tbody tr th:only-of-type {\n",
       "        vertical-align: middle;\n",
       "    }\n",
       "\n",
       "    .dataframe tbody tr th {\n",
       "        vertical-align: top;\n",
       "    }\n",
       "\n",
       "    .dataframe thead th {\n",
       "        text-align: right;\n",
       "    }\n",
       "</style>\n",
       "<table border=\"1\" class=\"dataframe\">\n",
       "  <thead>\n",
       "    <tr style=\"text-align: right;\">\n",
       "      <th></th>\n",
       "      <th>feature</th>\n",
       "      <th>classLabel</th>\n",
       "    </tr>\n",
       "  </thead>\n",
       "  <tbody>\n",
       "    <tr>\n",
       "      <td>0</td>\n",
       "      <td>-8.339510</td>\n",
       "      <td>1</td>\n",
       "    </tr>\n",
       "    <tr>\n",
       "      <td>1</td>\n",
       "      <td>-4.475830</td>\n",
       "      <td>1</td>\n",
       "    </tr>\n",
       "    <tr>\n",
       "      <td>2</td>\n",
       "      <td>-1.711105</td>\n",
       "      <td>1</td>\n",
       "    </tr>\n",
       "    <tr>\n",
       "      <td>3</td>\n",
       "      <td>-5.510317</td>\n",
       "      <td>1</td>\n",
       "    </tr>\n",
       "    <tr>\n",
       "      <td>4</td>\n",
       "      <td>-5.583594</td>\n",
       "      <td>1</td>\n",
       "    </tr>\n",
       "  </tbody>\n",
       "</table>\n",
       "</div>"
      ],
      "text/plain": [
       "    feature  classLabel\n",
       "0 -8.339510           1\n",
       "1 -4.475830           1\n",
       "2 -1.711105           1\n",
       "3 -5.510317           1\n",
       "4 -5.583594           1"
      ]
     },
     "execution_count": 4,
     "metadata": {},
     "output_type": "execute_result"
    }
   ],
   "source": [
    "data2p4.head()"
   ]
  },
  {
   "cell_type": "code",
   "execution_count": 5,
   "metadata": {},
   "outputs": [
    {
     "name": "stdout",
     "output_type": "stream",
     "text": [
      "    feature  classLabel\n",
      "0  6.000080           0\n",
      "1  0.550831           0\n",
      "2  3.645289           0\n",
      "3  6.771784           0\n",
      "4  5.445052           0\n",
      "(1000, 2)\n"
     ]
    }
   ],
   "source": [
    "finalDatap4=pd.concat([data1p4,data2p4])\n",
    "finalDatap4.head()"
   ]
  },
  {
   "cell_type": "code",
   "execution_count": 6,
   "metadata": {},
   "outputs": [],
   "source": [
    "xTrainP4,xTestP4,yTrainP4,yTestP4=train_test_split(finalDatap4[['feature']],finalDatap4['classLabel'],test_size=0.3)"
   ]
  },
  {
   "cell_type": "code",
   "execution_count": 7,
   "metadata": {},
   "outputs": [],
   "source": [
    "dtp4 = DecisionTreeClassifier(max_depth=2)\n",
    "dtp4.fit(xTrainP4, yTrainP4)\n",
    "predictp4=dtp4.predict(xTestP4)"
   ]
  },
  {
   "cell_type": "code",
   "execution_count": 14,
   "metadata": {},
   "outputs": [],
   "source": [
    "fprp4,tprp4,thresholdsp4=metrics.roc_curve(y_score=predictp4,y_true=yTestP4)"
   ]
  },
  {
   "cell_type": "code",
   "execution_count": 15,
   "metadata": {},
   "outputs": [
    {
     "name": "stdout",
     "output_type": "stream",
     "text": [
      "THRESHOLD is [2 1 0]\n"
     ]
    }
   ],
   "source": [
    "print(\"THRESHOLD is {0}\".format(thresholdsp4))"
   ]
  },
  {
   "cell_type": "markdown",
   "metadata": {},
   "source": [
    "# Recitation"
   ]
  },
  {
   "cell_type": "markdown",
   "metadata": {},
   "source": [
    "## Chapter 2"
   ]
  },
  {
   "cell_type": "markdown",
   "metadata": {},
   "source": [
    "**Exercise 2)<br>\n",
    "1)** Count of C0 is 10<br> \n",
    "   count of C1 is 10<br>\n",
    "   Gini=1-(10/20)^2 -(10/20)^2 <br>\n",
    "       =0.5<br>"
   ]
  },
  {
   "cell_type": "markdown",
   "metadata": {},
   "source": [
    "**Exercise 2)<br>\n",
    "2)** As ID are unique probability of each id is 1/20 <br>\n",
    "   As there are only two possibilities of classes for the each ID Gini index of each id is 0 <br>\n",
    "   so total GInin Index=20*(1/20)*0=0<br>"
   ]
  },
  {
   "cell_type": "markdown",
   "metadata": {},
   "source": [
    "**Exercise 2)<br>\n",
    "3)**<br>\n",
    "Female count=10<br>\n",
    "Male count=10<br>\n",
    "Gini=1-(10/20)^2 -(10/20)^2<br>\n",
    "=0.5<br>"
   ]
  },
  {
   "cell_type": "markdown",
   "metadata": {},
   "source": [
    "**Exercise 2)<br>\n",
    "4)**<br>\n",
    "Family car Type Probability= 4/20=0.2 <br>\n",
    "Sports car Type Probability= 8/20=0.4 <br>\n",
    "Luxury car Type Probability= 8/20=0.4 <br>\n",
    "\n",
    "P(Family|C1) =0.75 P(Family|C0) =0.25<br><br>\n",
    "gini=1-(0.75)^2-(0.25)^2<br>\n",
    "    =1-0.5625-0.0625<br>\n",
    "    =0.375<br><br>\n",
    "P(Sports|C1) =0     P(Sports|C0) =1<br>\n",
    "gini=1-(0)^2-(1)^2<br>\n",
    "    =0 <br><br>\n",
    "P(Luxury|C1) =0.125 P(Luxury|C0) =0.875<br><br>\n",
    "gini=1-(0.125)^2-(0.875)^2<br>\n",
    "    =1-0.015625-0.765625<br>\n",
    "    =0.21875<br><br>\n",
    "Gini Index= (0.2*0.375)+(0.4*0)+(0.4*0.21875)\n",
    "          =0.1625"
   ]
  },
  {
   "cell_type": "markdown",
   "metadata": {},
   "source": [
    "**Exercise 2)<br>\n",
    "5)**<br>\n",
    "Small Shirt size:  5/20=0.25<br>\n",
    "Medium Shirt size: 7/20=0.35<br>\n",
    "Large Shirt size:  4/20=0.2<br>\n",
    "Extra Large size:  4/20=0.2<br><br>\n",
    "    \n",
    "P(Small|C1) =2/5=0.4 P(Small|C0) =3/5=0.6<br>\n",
    "Gini=1-(0.4)^2-(0.6)^2<br>\n",
    "    =0.48<br>\n",
    "P(Medium|C1) =4/7=0.5714 P(Medium|C0) =3/7=0.428<br>\n",
    "Gini=1-(0.5714)^2-(0.428)^2<br>\n",
    "    =0.49<br>\n",
    "P(Large|C1) =2/4=0.5 P(Large|C0) =2/4=0.5<br><br>\n",
    "Gini=1-(0.5)^2-(0.5)^2<br>\n",
    "    =0.5<br>\n",
    "P(ExtraLarge|C1) =2/4=0.5 P(ExtraLarge|C0) =2/4=0.5<br><br>\n",
    "Gini=1-(0.5)^2-(0.5)^2<br>\n",
    "    =0.5<br>\n",
    "Gini Index=(0.25*0.48)+(0.35*0.49)+(0.2*0.5)+(0.2*0.5)<br>\n",
    "          =0.4915<br>"
   ]
  },
  {
   "cell_type": "markdown",
   "metadata": {},
   "source": [
    "**Exercise 2)<br>\n",
    "6)**<br>\n",
    "Lower ther gini index better it is from above ***carType*** has lower Gini\n",
    "i.e. ***Gini of carType=0.1625***"
   ]
  },
  {
   "cell_type": "markdown",
   "metadata": {},
   "source": [
    "**Exercise 2)<br>\n",
    "7)**<br>\n",
    "It is just a primary key needed for RDBMS to store data it holds no rela meaning."
   ]
  },
  {
   "cell_type": "markdown",
   "metadata": {},
   "source": [
    "**Exercise 6)<br>\n",
    "1)**<br>\n",
    "Gini inex= 1-(3/10)^2-(7/10)^2 <br>\n",
    "         = 0.42  <br>\n",
    "Miscalssification Error=1-(7/10)<br>\n",
    "                       =0.3<br>"
   ]
  },
  {
   "cell_type": "markdown",
   "metadata": {},
   "source": [
    "**Exercise 6)<br>\n",
    "2)**<br>\n",
    "ginic1=1-1-(3/3)^2-(0/3)^2<br>\n",
    "    =0<br>\n",
    "ginic2=1-(4/7)^2-(3/7)^2<br>\n",
    "    =0.489<br>"
   ]
  },
  {
   "cell_type": "markdown",
   "metadata": {},
   "source": [
    "**Exercise 6)<br>\n",
    "3)**<br>\n",
    "misClassficationC1=1-Max((3/3),(0/3))\n",
    "                  =0\n",
    "misClassficationC2=1-Max((4/7),(3/7))\n",
    "                  =1-(4/7)\n",
    "                  =0.428"
   ]
  },
  {
   "cell_type": "code",
   "execution_count": null,
   "metadata": {},
   "outputs": [],
   "source": []
  }
 ],
 "metadata": {
  "kernelspec": {
   "display_name": "Python 3",
   "language": "python",
   "name": "python3"
  },
  "language_info": {
   "codemirror_mode": {
    "name": "ipython",
    "version": 3
   },
   "file_extension": ".py",
   "mimetype": "text/x-python",
   "name": "python",
   "nbconvert_exporter": "python",
   "pygments_lexer": "ipython3",
   "version": "3.7.4"
  }
 },
 "nbformat": 4,
 "nbformat_minor": 2
}
